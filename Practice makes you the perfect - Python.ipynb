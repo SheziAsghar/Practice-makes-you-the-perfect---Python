{
 "cells": [
  {
   "cell_type": "code",
   "execution_count": 2,
   "metadata": {},
   "outputs": [
    {
     "name": "stdout",
     "output_type": "stream",
     "text": [
      "Hello World!\n"
     ]
    }
   ],
   "source": [
    "print(\"Hello World!\")"
   ]
  },
  {
   "cell_type": "code",
   "execution_count": 7,
   "metadata": {},
   "outputs": [
    {
     "name": "stdout",
     "output_type": "stream",
     "text": [
      "Type radius of circle here 4\n",
      "The circle of radius is 50.24\n"
     ]
    }
   ],
   "source": [
    "print(\"The circle of radius is\",3.14*int(input(\"Type radius of circle here \"))**2)"
   ]
  },
  {
   "cell_type": "code",
   "execution_count": 14,
   "metadata": {},
   "outputs": [
    {
     "name": "stdout",
     "output_type": "stream",
     "text": [
      "Paste here radius of a circle 4\n",
      "50.24\n"
     ]
    }
   ],
   "source": [
    "#Formula of circle, :-πr**2 (π this is pi & pi=3.14)\n",
    "\n",
    "print(3.14*int(input(\"Paste here radius of a circle \"))**2)"
   ]
  },
  {
   "cell_type": "code",
   "execution_count": 34,
   "metadata": {},
   "outputs": [
    {
     "name": "stdout",
     "output_type": "stream",
     "text": [
      "Enter your name: Shezi Asghar Mughal\n",
      "S \n",
      "Sh \n",
      "She \n",
      "Shez \n",
      "Shezi \n",
      "Shezi  \n",
      "Shezi A \n",
      "Shezi As \n",
      "Shezi Asg \n",
      "Shezi Asgh \n",
      "Shezi Asgha \n",
      "Shezi Asghar \n",
      "Shezi Asghar  \n",
      "Shezi Asghar M \n",
      "Shezi Asghar Mu \n",
      "Shezi Asghar Mug \n",
      "Shezi Asghar Mugh \n",
      "Shezi Asghar Mugha \n",
      "Shezi Asghar Mughal \n"
     ]
    }
   ],
   "source": [
    "#Python Pattern Programs - Printing Strings in Right Triangle Shape.\n",
    "\n",
    "string = input(\"Enter your name: \")\n",
    "\n",
    "a = 1\n",
    "for i in string:\n",
    "    print(string[0:a],end=\" \")\n",
    "    a+=1\n",
    "    print()"
   ]
  },
  {
   "cell_type": "code",
   "execution_count": 33,
   "metadata": {},
   "outputs": [
    {
     "name": "stdout",
     "output_type": "stream",
     "text": [
      "Printing Strings in Right Triangle Shape: Python\n",
      "P\n",
      "Py\n",
      "Pyt\n",
      "Pyth\n",
      "Pytho\n",
      "Python\n"
     ]
    }
   ],
   "source": [
    "#2nd Method.\n",
    "#Python Pattern Programs - Printing Strings in Right Triangle Shape.\n",
    "\n",
    "str = input(\"Printing Strings in Right Triangle Shape: \")\n",
    "for i, char in enumerate(str):\n",
    "    print(str[0:i+1])"
   ]
  },
  {
   "cell_type": "code",
   "execution_count": 40,
   "metadata": {},
   "outputs": [
    {
     "name": "stdout",
     "output_type": "stream",
     "text": [
      "       Twinkle, twinkle, little star,\n",
      "              How I wonder what you are!\n",
      "                    Up above the world so high,\n",
      "                    Like a diamond in the sky.\n",
      "       Twinkle, twinkle, little star,\n",
      "              How I wonder what you are\n"
     ]
    }
   ],
   "source": [
    "a = '''       Twinkle, twinkle, little star,\n",
    "              How I wonder what you are!\n",
    "                    Up above the world so high,\n",
    "                    Like a diamond in the sky.\n",
    "       Twinkle, twinkle, little star,\n",
    "              How I wonder what you are'''\n",
    "print(a)"
   ]
  },
  {
   "cell_type": "code",
   "execution_count": 66,
   "metadata": {},
   "outputs": [
    {
     "name": "stdout",
     "output_type": "stream",
     "text": [
      "       Twinkle, twinkle, little star,\n",
      "              How I wonder what you are!\n",
      "                    Up above the world so high,\n",
      "                    Like a diamond in the sky.\n",
      "       Twinkle, twinkle, little star,\n",
      "              How I wonder what you are\n",
      "       ---------------------------------------       \n",
      "       Twinkle, twinkle, little star,\n",
      "              How I wonder what you are!\n",
      "                    Up above the world so high,\n",
      "                    Like a diamond in the sky.\n",
      "       Twinkle, twinkle, little star,\n",
      "              How I wonder what you are\n"
     ]
    }
   ],
   "source": [
    "f ='''       Twinkle, twinkle, little star,\n",
    "              How I wonder what you are!\n",
    "                    Up above the world so high,\n",
    "                    Like a diamond in the sky.\n",
    "       Twinkle, twinkle, little star,\n",
    "              How I wonder what you are\n",
    "       ---------------------------------------       \n",
    "       Twinkle, twinkle, little star,\n",
    "              How I wonder what you are!\n",
    "                    Up above the world so high,\n",
    "                    Like a diamond in the sky.\n",
    "       Twinkle, twinkle, little star,\n",
    "              How I wonder what you are'''\n",
    "print(f)"
   ]
  },
  {
   "cell_type": "code",
   "execution_count": 55,
   "metadata": {},
   "outputs": [
    {
     "name": "stdout",
     "output_type": "stream",
     "text": [
      "       Twinkle, twinkle, little star,\n",
      "              How I wonder what you are!\n",
      "                    Up above the world so high,\n",
      "                    Like a diamond in the sky.\n",
      "       Twinkle, twinkle, little star,\n",
      "              How I wonder what you are\n"
     ]
    }
   ],
   "source": [
    "print('       Twinkle, twinkle, little star,\\n              How I wonder what you are!\\n                    Up above the world so high,\\n                    Like a diamond in the sky.\\n       Twinkle, twinkle, little star,\\n              How I wonder what you are')"
   ]
  },
  {
   "cell_type": "code",
   "execution_count": 69,
   "metadata": {},
   "outputs": [
    {
     "name": "stdout",
     "output_type": "stream",
     "text": [
      "       Twinkle, twinkle, little star,\n",
      "              How I wonder what you are!\n",
      "                    Up above the world so high,\n",
      "                    Like a diamond in the sky.\n",
      "       Twinkle, twinkle, little star,\n",
      "              How I wonder what you are\n",
      "       ---------------------------------------       \n",
      "       Twinkle, twinkle, little star,\n",
      "              How I wonder what you are!\n",
      "                    Up above the world so high,\n",
      "                    Like a diamond in the sky.\n",
      "       Twinkle, twinkle, little star,\n",
      "              How I wonder what you are\n"
     ]
    }
   ],
   "source": [
    "tf ='''       Twinkle, twinkle, little star,\n",
    "              How I wonder what you are!\n",
    "                    Up above the world so high,\n",
    "                    Like a diamond in the sky.\n",
    "       Twinkle, twinkle, little star,\n",
    "              How I wonder what you are\n",
    "       ---------------------------------------       \n",
    "       Twinkle, twinkle, little star,\n",
    "              How I wonder what you are!\n",
    "                    Up above the world so high,\n",
    "                    Like a diamond in the sky.\n",
    "       Twinkle, twinkle, little star,\n",
    "              How I wonder what you are'''\n",
    "print(tf)"
   ]
  },
  {
   "cell_type": "code",
   "execution_count": 72,
   "metadata": {},
   "outputs": [
    {
     "data": {
      "text/plain": [
       "'Twinkle, twinkle, little star,\\n              How I wonder what you are!\\n                    Up above the world so high,\\n                    Like a diamond in the sky.\\n       Twinkle, twinkle, little star,\\n              How I wonder what you are\\n       ---------------------------------------       \\n       Twinkle, twinkle, little star,\\n              How I wonder what you are!\\n                    Up above the world so high,\\n                    Like a diamond in the sky.\\n       Twinkle, twinkle, little star,\\n              How I wonder what you are'"
      ]
     },
     "execution_count": 72,
     "metadata": {},
     "output_type": "execute_result"
    }
   ],
   "source": [
    "'''Twinkle, twinkle, little star,\n",
    "              How I wonder what you are!\n",
    "                    Up above the world so high,\n",
    "                    Like a diamond in the sky.\n",
    "       Twinkle, twinkle, little star,\n",
    "              How I wonder what you are\n",
    "       ---------------------------------------       \n",
    "       Twinkle, twinkle, little star,\n",
    "              How I wonder what you are!\n",
    "                    Up above the world so high,\n",
    "                    Like a diamond in the sky.\n",
    "       Twinkle, twinkle, little star,\n",
    "              How I wonder what you are'''"
   ]
  },
  {
   "cell_type": "code",
   "execution_count": 80,
   "metadata": {},
   "outputs": [
    {
     "name": "stdout",
     "output_type": "stream",
     "text": [
      "       Twinkle, twinkle, little star,\n",
      "              How I wonder what you are!\n",
      "                    Up above the world so high,\n",
      "                    Like a diamond in the sky.\n",
      "       Twinkle, twinkle, little star,\n",
      "              How I wonder what you are\n",
      "       ---------------------------------------       \n",
      "       Twinkle, twinkle, little star,\n",
      "              How I wonder what you are!\n",
      "                    Up above the world so high,\n",
      "                    Like a diamond in the sky.\n",
      "       Twinkle, twinkle, little star,\n",
      "              How I wonder what you are\n"
     ]
    }
   ],
   "source": [
    "print('       Twinkle, twinkle, little star,\\n              How I wonder what you are!\\n                    Up above the world so high,\\n                    Like a diamond in the sky.\\n       Twinkle, twinkle, little star,\\n              How I wonder what you are\\n       ---------------------------------------       \\n       Twinkle, twinkle, little star,\\n              How I wonder what you are!\\n                    Up above the world so high,\\n                    Like a diamond in the sky.\\n       Twinkle, twinkle, little star,\\n              How I wonder what you are')"
   ]
  },
  {
   "cell_type": "code",
   "execution_count": 98,
   "metadata": {},
   "outputs": [
    {
     "name": "stdout",
     "output_type": "stream",
     "text": [
      "       Twinkle, twinkle, little star,\n",
      "              How I wonder what you are!\n",
      "                    Up above the world so high,\n",
      "                    Like a diamond in the sky.\n",
      "       Twinkle, twinkle, little star,\n",
      "              How I wonder what you are\n"
     ]
    }
   ],
   "source": [
    "print('       Twinkle, twinkle, little star,\\n              How I wonder what you are!\\n                    Up above the world so high,\\n                    Like a diamond in the sky.\\n       Twinkle, twinkle, little star,\\n              How I wonder what you are')"
   ]
  },
  {
   "cell_type": "code",
   "execution_count": 102,
   "metadata": {},
   "outputs": [
    {
     "name": "stdout",
     "output_type": "stream",
     "text": [
      "    Twinkle, twinkle, little star,\n",
      "            How I wonder what you are!\n",
      "                  Up above the world so high,\n",
      "                  Like a diamond in the sky.\n",
      "\n",
      "     Twinkle, twinkle, little star,\n",
      "            How I wonder what you are\n"
     ]
    }
   ],
   "source": [
    "print('    Twinkle, twinkle, little star,\\n            How I wonder what you are!\\n                  Up above the world so high,\\n                  Like a diamond in the sky.\\n\\n     Twinkle, twinkle, little star,\\n            How I wonder what you are')"
   ]
  },
  {
   "cell_type": "code",
   "execution_count": 106,
   "metadata": {},
   "outputs": [
    {
     "name": "stdout",
     "output_type": "stream",
     "text": [
      "Type here any digit to plus : 2\n",
      "Type here any digit to plus : 6\n",
      "64\n"
     ]
    }
   ],
   "source": [
    "a = int(input(\"Type here any digit to plus : \" ))\n",
    "b = int(input(\"Type here any digit to plus : \" ))\n",
    "print(a + b)"
   ]
  },
  {
   "cell_type": "code",
   "execution_count": 108,
   "metadata": {},
   "outputs": [
    {
     "name": "stdout",
     "output_type": "stream",
     "text": [
      "First number 5\n",
      "Second number 5\n",
      "The sum of 5 and 5 is 10\n"
     ]
    }
   ],
   "source": [
    "num1 = input(\"First number \")\n",
    "num2 = input(\"Second number \")\n",
    "sum = int(num1) + int(num2)\n",
    "print (\"The sum of {0} and {1} is {2}\" .format(num1, num2, sum))\n",
    "\n"
   ]
  },
  {
   "cell_type": "code",
   "execution_count": 118,
   "metadata": {},
   "outputs": [
    {
     "name": "stdout",
     "output_type": "stream",
     "text": [
      "Hello \"World\" World\n"
     ]
    }
   ],
   "source": [
    "print(\"Hello \\\"World\\\" World\")"
   ]
  },
  {
   "cell_type": "code",
   "execution_count": 122,
   "metadata": {},
   "outputs": [
    {
     "name": "stdout",
     "output_type": "stream",
     "text": [
      "     Twinkle, twinkle, little star,\n",
      "            How I wonder what you are!\n",
      "                  Up above the world so high,\n",
      "                  Like a diamond in the sky.\n",
      "\n",
      "     Twinkle, twinkle, little star,\n",
      "            How I wonder what you are\n"
     ]
    }
   ],
   "source": [
    "print('     Twinkle, twinkle, little star,\\n            How I wonder what you are!\\n                  Up above the world so high,\\n                  Like a diamond in the sky.\\n\\n     Twinkle, twinkle, little star,\\n            How I wonder what you are')"
   ]
  },
  {
   "cell_type": "code",
   "execution_count": 127,
   "metadata": {},
   "outputs": [
    {
     "name": "stdout",
     "output_type": "stream",
     "text": [
      "Hello \"Hello\" World\n"
     ]
    }
   ],
   "source": [
    "print(\"Hello \\\"Hello\\\" World\")"
   ]
  },
  {
   "cell_type": "code",
   "execution_count": 130,
   "metadata": {},
   "outputs": [
    {
     "name": "stdout",
     "output_type": "stream",
     "text": [
      "This is double backslash \\\\\n"
     ]
    }
   ],
   "source": [
    "print(\"This is double backslash \\\\\\\\\")"
   ]
  },
  {
   "cell_type": "code",
   "execution_count": 134,
   "metadata": {},
   "outputs": [
    {
     "name": "stdout",
     "output_type": "stream",
     "text": [
      "This is Shezi's love\n"
     ]
    }
   ],
   "source": [
    "print('This is Shezi\\'s love')"
   ]
  },
  {
   "cell_type": "code",
   "execution_count": 136,
   "metadata": {},
   "outputs": [
    {
     "name": "stdout",
     "output_type": "stream",
     "text": [
      "This is Shezi\bi's love\n"
     ]
    }
   ],
   "source": [
    "print('This is Shezi\\bi\\'s love')"
   ]
  },
  {
   "cell_type": "code",
   "execution_count": null,
   "metadata": {},
   "outputs": [],
   "source": []
  }
 ],
 "metadata": {
  "kernelspec": {
   "display_name": "Python 3",
   "language": "python",
   "name": "python3"
  },
  "language_info": {
   "codemirror_mode": {
    "name": "ipython",
    "version": 3
   },
   "file_extension": ".py",
   "mimetype": "text/x-python",
   "name": "python",
   "nbconvert_exporter": "python",
   "pygments_lexer": "ipython3",
   "version": "3.7.4"
  }
 },
 "nbformat": 4,
 "nbformat_minor": 2
}
